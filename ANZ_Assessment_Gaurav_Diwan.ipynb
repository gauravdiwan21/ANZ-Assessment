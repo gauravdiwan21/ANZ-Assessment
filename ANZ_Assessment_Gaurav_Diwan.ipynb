{
  "nbformat": 4,
  "nbformat_minor": 0,
  "metadata": {
    "colab": {
      "name": "ANZ Assessment_Gaurav Diwan.ipynb",
      "provenance": [],
      "collapsed_sections": []
    },
    "kernelspec": {
      "name": "python3",
      "display_name": "Python 3"
    },
    "language_info": {
      "name": "python"
    }
  },
  "cells": [
    {
      "cell_type": "markdown",
      "metadata": {
        "id": "gBFTTddvR9Av"
      },
      "source": [
        "# ANZ Gig Incubation Program 2021 Assessment - Gaurav Diwan"
      ]
    },
    {
      "cell_type": "markdown",
      "metadata": {
        "id": "VtdhrwxWRq-L"
      },
      "source": [
        "## Information About Important Attributes\n",
        "\n",
        " - #### Agency Name :\n",
        "                 Name of the client's agency\n",
        " - #### Contract ID : \n",
        "                 ID under which contract was secured\n",
        " - #### Publish Date :\n",
        "                 Publish date of contract\n",
        " - #### Start Date : \n",
        "                 Start date of contract\n",
        " - #### End Date : \n",
        "                 End date of contract\n",
        " - #### Value : \n",
        "                 Value of the contract at the time of initiation\n",
        " - #### Amendment Date : \n",
        "                 The amendment of contract date (if happened)\n",
        " - #### Amendment Start Date :\n",
        "                 The Start date of amendment\n",
        " - #### Amendment Value :\n",
        "                 The value added to the original as a result of amendment\n",
        " - #### Description : \n",
        "                 Description of the service acquired by client\n",
        " - #### Agency Ref ID : \n",
        "                 Refernece ID of client's agency\n",
        " - #### UNSPSC Title : \n",
        "                 The United Nations Standard Products and Services Code is a taxonomy of products and services for use in eCommerce\n",
        " - #### Procurement Method : \n",
        "                 Tender method used by client to secure contract\n",
        " - #### Amendment Reason : \n",
        "                 The reason for amendment (if happened)\n",
        " - #### Supplier Name : \n",
        "                 The name of the client\n",
        " - #### Supplier Address : \n",
        "                 Address of the client\n",
        " - #### Supplier Suburb : \n",
        "                 Suburb of the client"
      ]
    },
    {
      "cell_type": "code",
      "metadata": {
        "id": "rkOS2pq0Qzd7"
      },
      "source": [
        "\"\"\"\n",
        "Importing Libraries\n",
        "\"\"\"\n",
        "import pandas as pd\n",
        "import numpy as np\n",
        "import matplotlib.pyplot as plt"
      ],
      "execution_count": 1,
      "outputs": []
    },
    {
      "cell_type": "code",
      "metadata": {
        "id": "FisKznLrRc4B"
      },
      "source": [
        "\"\"\"\n",
        "Importing data set\n",
        "\"\"\"\n",
        "df = pd.read_excel(\"data.xlsx\")"
      ],
      "execution_count": 2,
      "outputs": []
    },
    {
      "cell_type": "code",
      "metadata": {
        "colab": {
          "base_uri": "https://localhost:8080/",
          "height": 445
        },
        "id": "2OLwSPbNSaVe",
        "outputId": "70f046e1-1bf3-4bc2-b89b-fe3eb706516a"
      },
      "source": [
        "df.head()"
      ],
      "execution_count": 3,
      "outputs": [
        {
          "output_type": "execute_result",
          "data": {
            "text/html": [
              "<div>\n",
              "<style scoped>\n",
              "    .dataframe tbody tr th:only-of-type {\n",
              "        vertical-align: middle;\n",
              "    }\n",
              "\n",
              "    .dataframe tbody tr th {\n",
              "        vertical-align: top;\n",
              "    }\n",
              "\n",
              "    .dataframe thead th {\n",
              "        text-align: right;\n",
              "    }\n",
              "</style>\n",
              "<table border=\"1\" class=\"dataframe\">\n",
              "  <thead>\n",
              "    <tr style=\"text-align: right;\">\n",
              "      <th></th>\n",
              "      <th>Agency Name</th>\n",
              "      <th>Parent Contract ID</th>\n",
              "      <th>Contract ID</th>\n",
              "      <th>Publish Date</th>\n",
              "      <th>Start Date</th>\n",
              "      <th>End Date</th>\n",
              "      <th>Value</th>\n",
              "      <th>Amendment Date</th>\n",
              "      <th>Amendment Start Date</th>\n",
              "      <th>Amendments Value</th>\n",
              "      <th>Description</th>\n",
              "      <th>Agency Ref ID</th>\n",
              "      <th>UNSPSC Code</th>\n",
              "      <th>UNSPSC Title</th>\n",
              "      <th>Procurement Method</th>\n",
              "      <th>ATM ID</th>\n",
              "      <th>SON ID</th>\n",
              "      <th>Panel Arrangement</th>\n",
              "      <th>Confidentiality Contract Flag</th>\n",
              "      <th>Confidentiality Contract Reason</th>\n",
              "      <th>Confidentiality Outputs Flag</th>\n",
              "      <th>Confidentiality Outputs Reason</th>\n",
              "      <th>Consultancy Flag</th>\n",
              "      <th>Consultancy Reason</th>\n",
              "      <th>Amendment Reason</th>\n",
              "      <th>Supplier Name</th>\n",
              "      <th>Supplier Address</th>\n",
              "      <th>Supplier Suburb</th>\n",
              "      <th>Supplier Postcode</th>\n",
              "      <th>Supplier State</th>\n",
              "      <th>Supplier Country</th>\n",
              "      <th>Supplier ABN Exempt</th>\n",
              "      <th>Supplier ABN</th>\n",
              "      <th>Contact Name</th>\n",
              "      <th>Contact Phone</th>\n",
              "      <th>Branch</th>\n",
              "      <th>Division</th>\n",
              "      <th>Office Postcode</th>\n",
              "      <th>Applicable Publish Date</th>\n",
              "      <th>Applicable FY Year</th>\n",
              "      <th>Applicable Value</th>\n",
              "      <th>Duration Years</th>\n",
              "      <th>Applicable Start Date</th>\n",
              "    </tr>\n",
              "  </thead>\n",
              "  <tbody>\n",
              "    <tr>\n",
              "      <th>0</th>\n",
              "      <td>Department of Defence</td>\n",
              "      <td>NaN</td>\n",
              "      <td>CN3620990</td>\n",
              "      <td>2019-08-20</td>\n",
              "      <td>2019-05-01</td>\n",
              "      <td>2019-05-31</td>\n",
              "      <td>16163.40</td>\n",
              "      <td>NaT</td>\n",
              "      <td>NaT</td>\n",
              "      <td>NaN</td>\n",
              "      <td>Fitness Equipment</td>\n",
              "      <td>4501071435</td>\n",
              "      <td>49200000</td>\n",
              "      <td>Fitness equipment</td>\n",
              "      <td>Limited tender</td>\n",
              "      <td>NaN</td>\n",
              "      <td>NaN</td>\n",
              "      <td>NaN</td>\n",
              "      <td>No</td>\n",
              "      <td>NaN</td>\n",
              "      <td>No</td>\n",
              "      <td>NaN</td>\n",
              "      <td>No</td>\n",
              "      <td>NaN</td>\n",
              "      <td>NaN</td>\n",
              "      <td>BLP TRAINING &amp; SERVICES PTY LTD</td>\n",
              "      <td>NaN</td>\n",
              "      <td>BEENLEIGH</td>\n",
              "      <td>4207</td>\n",
              "      <td>QLD</td>\n",
              "      <td>AUSTRALIA</td>\n",
              "      <td>No</td>\n",
              "      <td>4.007962e+10</td>\n",
              "      <td>Army Forces Command</td>\n",
              "      <td>0</td>\n",
              "      <td>Army Forces Command</td>\n",
              "      <td>ARMY HEADQUARTERS</td>\n",
              "      <td>2021</td>\n",
              "      <td>2019-08-20</td>\n",
              "      <td>2020</td>\n",
              "      <td>16163.40</td>\n",
              "      <td>0.222222</td>\n",
              "      <td>2019-05-01</td>\n",
              "    </tr>\n",
              "    <tr>\n",
              "      <th>1</th>\n",
              "      <td>Australian Bureau of Statistics</td>\n",
              "      <td>CN3602517</td>\n",
              "      <td>CN3602517-A1</td>\n",
              "      <td>2019-06-21</td>\n",
              "      <td>2018-07-01</td>\n",
              "      <td>2023-06-30</td>\n",
              "      <td>1964000.00</td>\n",
              "      <td>2020-05-25</td>\n",
              "      <td>2020-05-25</td>\n",
              "      <td>648000.00</td>\n",
              "      <td>Software Maintenance</td>\n",
              "      <td>ABS2018.450</td>\n",
              "      <td>81112200</td>\n",
              "      <td>Software maintenance and support</td>\n",
              "      <td>Open tender</td>\n",
              "      <td>NaN</td>\n",
              "      <td>SON3520963</td>\n",
              "      <td>Yes</td>\n",
              "      <td>No</td>\n",
              "      <td>NaN</td>\n",
              "      <td>No</td>\n",
              "      <td>NaN</td>\n",
              "      <td>No</td>\n",
              "      <td>NaN</td>\n",
              "      <td>Variation</td>\n",
              "      <td>IBM Australia Limited</td>\n",
              "      <td>NaN</td>\n",
              "      <td>Pennant Hills</td>\n",
              "      <td>1715</td>\n",
              "      <td>NSW</td>\n",
              "      <td>AUSTRALIA</td>\n",
              "      <td>No</td>\n",
              "      <td>7.900002e+10</td>\n",
              "      <td>Director, procurement</td>\n",
              "      <td>NaN</td>\n",
              "      <td>NaN</td>\n",
              "      <td>NaN</td>\n",
              "      <td>2617</td>\n",
              "      <td>2020-05-25</td>\n",
              "      <td>2020</td>\n",
              "      <td>648000.00</td>\n",
              "      <td>3.097222</td>\n",
              "      <td>2020-05-25</td>\n",
              "    </tr>\n",
              "    <tr>\n",
              "      <th>2</th>\n",
              "      <td>Services Australia</td>\n",
              "      <td>NaN</td>\n",
              "      <td>CN3671573</td>\n",
              "      <td>2020-04-07</td>\n",
              "      <td>2020-03-19</td>\n",
              "      <td>2020-03-27</td>\n",
              "      <td>155997.60</td>\n",
              "      <td>NaT</td>\n",
              "      <td>NaT</td>\n",
              "      <td>NaN</td>\n",
              "      <td>Training Services</td>\n",
              "      <td>D296030217</td>\n",
              "      <td>86000000</td>\n",
              "      <td>Education and Training Services</td>\n",
              "      <td>Open tender</td>\n",
              "      <td>NaN</td>\n",
              "      <td>SON3393682</td>\n",
              "      <td>Yes</td>\n",
              "      <td>No</td>\n",
              "      <td>NaN</td>\n",
              "      <td>No</td>\n",
              "      <td>NaN</td>\n",
              "      <td>No</td>\n",
              "      <td>NaN</td>\n",
              "      <td>NaN</td>\n",
              "      <td>Benestar Group Pty Ltd</td>\n",
              "      <td>PO Box Q1436</td>\n",
              "      <td>QVB Post Office Sydney</td>\n",
              "      <td>1230</td>\n",
              "      <td>NSW</td>\n",
              "      <td>Australia</td>\n",
              "      <td>No</td>\n",
              "      <td>6.100354e+10</td>\n",
              "      <td>PURCHASING HELPDESK</td>\n",
              "      <td>1800 906 144</td>\n",
              "      <td>DHS Branch</td>\n",
              "      <td>DHS Division</td>\n",
              "      <td>2900</td>\n",
              "      <td>2020-04-07</td>\n",
              "      <td>2020</td>\n",
              "      <td>155997.60</td>\n",
              "      <td>0.027778</td>\n",
              "      <td>2020-03-19</td>\n",
              "    </tr>\n",
              "    <tr>\n",
              "      <th>3</th>\n",
              "      <td>Department of Health</td>\n",
              "      <td>NaN</td>\n",
              "      <td>CN3648860</td>\n",
              "      <td>2019-12-19</td>\n",
              "      <td>2020-01-02</td>\n",
              "      <td>2020-06-30</td>\n",
              "      <td>169542.12</td>\n",
              "      <td>NaT</td>\n",
              "      <td>NaT</td>\n",
              "      <td>NaN</td>\n",
              "      <td>Labour Hire</td>\n",
              "      <td>4500135727</td>\n",
              "      <td>80111700</td>\n",
              "      <td>Personnel recruitment</td>\n",
              "      <td>Open tender</td>\n",
              "      <td>RFT20000551</td>\n",
              "      <td>SON3403954</td>\n",
              "      <td>Yes</td>\n",
              "      <td>No</td>\n",
              "      <td>NaN</td>\n",
              "      <td>No</td>\n",
              "      <td>NaN</td>\n",
              "      <td>No</td>\n",
              "      <td>NaN</td>\n",
              "      <td>NaN</td>\n",
              "      <td>PEOPLEBANK AUSTRALIA LTD</td>\n",
              "      <td>NaN</td>\n",
              "      <td>NORTH SYDNEY</td>\n",
              "      <td>2060</td>\n",
              "      <td>NSW</td>\n",
              "      <td>Australia</td>\n",
              "      <td>No</td>\n",
              "      <td>4.200400e+10</td>\n",
              "      <td>BMU</td>\n",
              "      <td>02 6289 4977</td>\n",
              "      <td>NaN</td>\n",
              "      <td>Cancer Hearing and Program Support DIV</td>\n",
              "      <td>2606</td>\n",
              "      <td>2019-12-19</td>\n",
              "      <td>2020</td>\n",
              "      <td>169542.12</td>\n",
              "      <td>0.530556</td>\n",
              "      <td>2020-01-02</td>\n",
              "    </tr>\n",
              "    <tr>\n",
              "      <th>4</th>\n",
              "      <td>Administrative Appeals Tribunal</td>\n",
              "      <td>CN3591066</td>\n",
              "      <td>CN3591066-A1</td>\n",
              "      <td>2019-05-13</td>\n",
              "      <td>2019-02-27</td>\n",
              "      <td>2019-07-31</td>\n",
              "      <td>13263.55</td>\n",
              "      <td>2019-07-25</td>\n",
              "      <td>2019-06-01</td>\n",
              "      <td>13263.55</td>\n",
              "      <td>Labour hire contractor</td>\n",
              "      <td>4500000293</td>\n",
              "      <td>80111600</td>\n",
              "      <td>Temporary personnel services</td>\n",
              "      <td>Limited tender</td>\n",
              "      <td>NaN</td>\n",
              "      <td>NaN</td>\n",
              "      <td>NaN</td>\n",
              "      <td>No</td>\n",
              "      <td>NaN</td>\n",
              "      <td>No</td>\n",
              "      <td>NaN</td>\n",
              "      <td>No</td>\n",
              "      <td>NaN</td>\n",
              "      <td>Extension date</td>\n",
              "      <td>LAUNCH RECRUITMENT PTY LTD</td>\n",
              "      <td>LEVEL 10 1 CASTLEREAGH STREET</td>\n",
              "      <td>SYDNEY</td>\n",
              "      <td>2000</td>\n",
              "      <td>NSW</td>\n",
              "      <td>AUSTRALIA</td>\n",
              "      <td>No</td>\n",
              "      <td>5.411914e+10</td>\n",
              "      <td>PROCUREMENT OFFICER</td>\n",
              "      <td>(03)9454 6100</td>\n",
              "      <td>Administrative Appeals Tribunal Administrative...</td>\n",
              "      <td>AAT Administrative Appeals Tribunal</td>\n",
              "      <td>4000</td>\n",
              "      <td>2019-07-25</td>\n",
              "      <td>2020</td>\n",
              "      <td>13263.55</td>\n",
              "      <td>0.016667</td>\n",
              "      <td>2019-06-01</td>\n",
              "    </tr>\n",
              "  </tbody>\n",
              "</table>\n",
              "</div>"
            ],
            "text/plain": [
              "                       Agency Name  ... Applicable Start Date\n",
              "0            Department of Defence  ...            2019-05-01\n",
              "1  Australian Bureau of Statistics  ...            2020-05-25\n",
              "2               Services Australia  ...            2020-03-19\n",
              "3             Department of Health  ...            2020-01-02\n",
              "4  Administrative Appeals Tribunal  ...            2019-06-01\n",
              "\n",
              "[5 rows x 43 columns]"
            ]
          },
          "metadata": {
            "tags": []
          },
          "execution_count": 3
        }
      ]
    },
    {
      "cell_type": "code",
      "metadata": {
        "colab": {
          "base_uri": "https://localhost:8080/"
        },
        "id": "rl1SrkJYSt-x",
        "outputId": "8a7f2157-dec5-4dfb-bbbc-39cad874e706"
      },
      "source": [
        "print(f'Total columns are {len(list(df.columns))}')\n",
        "print(f'Column Names are :  \\n {list(df.columns)}')"
      ],
      "execution_count": 4,
      "outputs": [
        {
          "output_type": "stream",
          "text": [
            "Total columns are 43\n",
            "Column Names are :  \n",
            " ['Agency Name', 'Parent Contract ID', 'Contract ID', 'Publish Date', 'Start Date', 'End Date', 'Value', 'Amendment Date', 'Amendment Start Date', 'Amendments Value', 'Description', 'Agency Ref ID', 'UNSPSC Code', 'UNSPSC Title', 'Procurement Method', 'ATM ID', 'SON ID', 'Panel Arrangement', 'Confidentiality Contract Flag', 'Confidentiality Contract Reason', 'Confidentiality Outputs Flag', 'Confidentiality Outputs Reason', 'Consultancy Flag', 'Consultancy Reason', 'Amendment Reason', 'Supplier Name', 'Supplier Address', 'Supplier Suburb', 'Supplier Postcode', 'Supplier State', 'Supplier Country', 'Supplier ABN Exempt', 'Supplier ABN', 'Contact Name', 'Contact Phone', 'Branch', 'Division', 'Office Postcode', 'Applicable Publish Date', 'Applicable FY Year', 'Applicable Value', 'Duration Years', 'Applicable Start Date']\n"
          ],
          "name": "stdout"
        }
      ]
    },
    {
      "cell_type": "code",
      "metadata": {
        "colab": {
          "base_uri": "https://localhost:8080/"
        },
        "id": "8yXDJBBjS4OB",
        "outputId": "7ba3ba22-1bca-4c33-9aa8-de46b2951457"
      },
      "source": [
        "row, columns = df.shape\n",
        "print(f'Total Rows are : {row}')\n",
        "print(f'Total Columns are : {columns}')"
      ],
      "execution_count": 5,
      "outputs": [
        {
          "output_type": "stream",
          "text": [
            "Total Rows are : 81174\n",
            "Total Columns are : 43\n"
          ],
          "name": "stdout"
        }
      ]
    },
    {
      "cell_type": "markdown",
      "metadata": {
        "id": "CsdCCUq1TOAf"
      },
      "source": [
        "## Step 01 : Data Cleaning and Feature Extraction  "
      ]
    },
    {
      "cell_type": "code",
      "metadata": {
        "colab": {
          "base_uri": "https://localhost:8080/"
        },
        "id": "hLBDoOQoTEQX",
        "outputId": "f904cb02-8b2c-47d8-8430-fdcc59897634"
      },
      "source": [
        "\"\"\"\n",
        "Deleting Columns having high majority empty values\n",
        "\"\"\"\n",
        "c1 = df['Parent Contract ID']\n",
        "c2 = df['ATM ID']\n",
        "c3 = df['SON ID']\n",
        "c4 = df['Panel Arrangement']\n",
        "c5 = df['Confidentiality Contract Flag']\n",
        "c6 = df['Confidentiality Outputs Reason']\n",
        "c7 = df['Consultancy Reason']\n",
        "\n",
        "print(f\"Deleting follwing columns because they have very large number of empty rows\")\n",
        "print(f'Empty values in Parent Contract ID : {c1.isna().sum()}')\n",
        "print(f'Empty values in ATM ID : {c2.isna().sum()}')\n",
        "print(f'Empty values in SON ID : {c3.isna().sum()}')\n",
        "print(f'Empty values in Panel Arrangement : {c4.isna().sum()}')\n",
        "print(f'Empty values in Confidentiality Contract Flag : {c5.isna().sum()}')\n",
        "print(f'Empty values in Confidentiality Outputs Reason : {c6.isna().sum()}')\n",
        "print(f'Empty values in Consultancy Reason : {c7.isna().sum()}')\n",
        "\n",
        "df = df.drop(['Parent Contract ID', 'ATM ID', 'SON ID', 'Panel Arrangement', 'Confidentiality Contract Flag', 'Confidentiality Outputs Reason', 'Consultancy Reason'], axis=1)"
      ],
      "execution_count": 6,
      "outputs": [
        {
          "output_type": "stream",
          "text": [
            "Deleting follwing columns because they have very large number of empty rows\n",
            "Empty values in Parent Contract ID : 65254\n",
            "Empty values in ATM ID : 54697\n",
            "Empty values in SON ID : 48619\n",
            "Empty values in Panel Arrangement : 48697\n",
            "Empty values in Confidentiality Contract Flag : 1124\n",
            "Empty values in Confidentiality Outputs Reason : 79393\n",
            "Empty values in Consultancy Reason : 77696\n"
          ],
          "name": "stdout"
        }
      ]
    },
    {
      "cell_type": "code",
      "metadata": {
        "colab": {
          "base_uri": "https://localhost:8080/"
        },
        "id": "bHeiIr0sTANP",
        "outputId": "afcbf311-54ef-4d23-f6c2-d808c7b2fd54"
      },
      "source": [
        "\"\"\"\n",
        "Deleting Useless Columns\n",
        "\"\"\"\n",
        "\n",
        "df = df.drop(['Confidentiality Outputs Flag', 'Consultancy Flag', 'Supplier ABN'], axis=1)\n",
        "\n",
        "df.columns"
      ],
      "execution_count": 7,
      "outputs": [
        {
          "output_type": "execute_result",
          "data": {
            "text/plain": [
              "Index(['Agency Name', 'Contract ID', 'Publish Date', 'Start Date', 'End Date',\n",
              "       'Value', 'Amendment Date', 'Amendment Start Date', 'Amendments Value',\n",
              "       'Description', 'Agency Ref ID', 'UNSPSC Code', 'UNSPSC Title',\n",
              "       'Procurement Method', 'Confidentiality Contract Reason',\n",
              "       'Amendment Reason', 'Supplier Name', 'Supplier Address',\n",
              "       'Supplier Suburb', 'Supplier Postcode', 'Supplier State',\n",
              "       'Supplier Country', 'Supplier ABN Exempt', 'Contact Name',\n",
              "       'Contact Phone', 'Branch', 'Division', 'Office Postcode',\n",
              "       'Applicable Publish Date', 'Applicable FY Year', 'Applicable Value',\n",
              "       'Duration Years', 'Applicable Start Date'],\n",
              "      dtype='object')"
            ]
          },
          "metadata": {
            "tags": []
          },
          "execution_count": 7
        }
      ]
    },
    {
      "cell_type": "code",
      "metadata": {
        "colab": {
          "base_uri": "https://localhost:8080/"
        },
        "id": "pKfxvl0LTnCr",
        "outputId": "cd6be17c-32d7-4aa7-a1cd-4416c6174756"
      },
      "source": [
        "len(df.columns)"
      ],
      "execution_count": 8,
      "outputs": [
        {
          "output_type": "execute_result",
          "data": {
            "text/plain": [
              "33"
            ]
          },
          "metadata": {
            "tags": []
          },
          "execution_count": 8
        }
      ]
    },
    {
      "cell_type": "code",
      "metadata": {
        "id": "Zppuu3bdTpnI"
      },
      "source": [
        "\"\"\"\n",
        "Dropping three more columns are these are mere duplicates\n",
        "\"\"\"\n",
        "df = df.drop([ 'Applicable Start Date', 'Applicable Value', 'Applicable Publish Date'], axis=1)"
      ],
      "execution_count": 9,
      "outputs": []
    },
    {
      "cell_type": "code",
      "metadata": {
        "colab": {
          "base_uri": "https://localhost:8080/"
        },
        "id": "6nSf1eAFTtOH",
        "outputId": "6b60bc27-db86-41a6-977f-aae485e7d40b"
      },
      "source": [
        "len(df.columns)"
      ],
      "execution_count": 10,
      "outputs": [
        {
          "output_type": "execute_result",
          "data": {
            "text/plain": [
              "30"
            ]
          },
          "metadata": {
            "tags": []
          },
          "execution_count": 10
        }
      ]
    },
    {
      "cell_type": "code",
      "metadata": {
        "id": "8TvqFjZMT_2h"
      },
      "source": [
        "\"\"\"\n",
        "Adding the initial value and the amendments value to get a final value produced by client\n",
        "\"\"\"\n",
        "valueBefore = df['Value']\n",
        "valueAfter = np.where(df['Amendments Value'].isna(), 0, df['Amendments Value'])\n",
        "df['Total Value'] = valueBefore + valueAfter"
      ],
      "execution_count": 11,
      "outputs": []
    },
    {
      "cell_type": "code",
      "metadata": {
        "id": "wHqgQkgTUMVg"
      },
      "source": [
        "\"\"\"\n",
        "Converting date time to only date data type\n",
        "\"\"\"\n",
        "df['Publish Date'] = df['Publish Date'].dt.date\n",
        "df['Start Date'] = df['Start Date'].dt.date\n",
        "df['End Date'] = df['End Date'].dt.date\n",
        "df['Amendment Start Date'] = df['Amendment Start Date'].dt.date"
      ],
      "execution_count": 12,
      "outputs": []
    },
    {
      "cell_type": "markdown",
      "metadata": {
        "id": "4ErNZbalURed"
      },
      "source": [
        "### Problem Statement 01 i.e.\n",
        " \n",
        " Which customers should Bank X provide their service to and why? Provide the criteria, explanation or approach to obtain the list of customers\n",
        "\n",
        "##### Solution Criteria for top 10 customers\n",
        " - Customers providing the highest value in past 10 years\n",
        "\n",
        "##### Approach Used will be\n",
        " \n",
        " - We will be getting the customers providing highest values for the period between 2010 and 2020"
      ]
    },
    {
      "cell_type": "code",
      "metadata": {
        "id": "x1_HRfo5UObT"
      },
      "source": [
        "startDate = pd.DatetimeIndex(df['Publish Date']).year <= 2020\n",
        "endDate = pd.DatetimeIndex(df['Publish Date']).year >= 2010\n",
        "mask = startDate & endDate"
      ],
      "execution_count": 13,
      "outputs": []
    },
    {
      "cell_type": "code",
      "metadata": {
        "id": "99r16mTiVMaS"
      },
      "source": [
        "\"\"\"\n",
        "Starting solution\n",
        "\"\"\"\n",
        "temp_data = df.loc[mask]"
      ],
      "execution_count": 14,
      "outputs": []
    },
    {
      "cell_type": "code",
      "metadata": {
        "colab": {
          "base_uri": "https://localhost:8080/"
        },
        "id": "OwCn1S5BVOO_",
        "outputId": "cebc2e1f-25f7-45d5-b0ae-957beadb83cd"
      },
      "source": [
        "\"\"\"\n",
        "Change data type of columns\n",
        "\"\"\"\n",
        "temp_data['Total Value'] = temp_data['Total Value'].astype('int64')\n",
        "temp_data['Value'] = temp_data['Value'].astype('int64')"
      ],
      "execution_count": 15,
      "outputs": [
        {
          "output_type": "stream",
          "text": [
            "/usr/local/lib/python3.7/dist-packages/ipykernel_launcher.py:4: SettingWithCopyWarning: \n",
            "A value is trying to be set on a copy of a slice from a DataFrame.\n",
            "Try using .loc[row_indexer,col_indexer] = value instead\n",
            "\n",
            "See the caveats in the documentation: https://pandas.pydata.org/pandas-docs/stable/user_guide/indexing.html#returning-a-view-versus-a-copy\n",
            "  after removing the cwd from sys.path.\n",
            "/usr/local/lib/python3.7/dist-packages/ipykernel_launcher.py:5: SettingWithCopyWarning: \n",
            "A value is trying to be set on a copy of a slice from a DataFrame.\n",
            "Try using .loc[row_indexer,col_indexer] = value instead\n",
            "\n",
            "See the caveats in the documentation: https://pandas.pydata.org/pandas-docs/stable/user_guide/indexing.html#returning-a-view-versus-a-copy\n",
            "  \"\"\"\n"
          ],
          "name": "stderr"
        }
      ]
    },
    {
      "cell_type": "code",
      "metadata": {
        "id": "ah5x6azwVQoH"
      },
      "source": [
        "customersDF = temp_data.sort_values(['Total Value'], ascending=False)"
      ],
      "execution_count": 16,
      "outputs": []
    },
    {
      "cell_type": "code",
      "metadata": {
        "id": "RkSVI0W0VTRn"
      },
      "source": [
        "customersDF = customersDF.groupby(by='Supplier Name')"
      ],
      "execution_count": 17,
      "outputs": []
    },
    {
      "cell_type": "code",
      "metadata": {
        "colab": {
          "base_uri": "https://localhost:8080/",
          "height": 390
        },
        "id": "HzJ1EhjEVVAn",
        "outputId": "8ee60cb2-6126-4cf1-c2c9-4e42b04ba985"
      },
      "source": [
        "\"\"\"\n",
        "Displaying Top 10 Customers\n",
        "\"\"\"\n",
        "tempCustDf = pd.DataFrame()\n",
        "tempCustDf['Agency Name'] = customersDF.first()['Agency Name'][:10]\n",
        "tempCustDf['Total Value'] = customersDF.first()['Total Value'][:10]\n",
        "tempCustDf['Publish Date'] = customersDF.first()['Publish Date'][:10]\n",
        "tempCustDf['Start Date'] = customersDF.first()['Start Date'][:10]\n",
        "tempCustDf['End Date'] = customersDF.first()['End Date'][:10]\n",
        "tempCustDf.sort_values(by='Total Value', ascending=False)"
      ],
      "execution_count": 18,
      "outputs": [
        {
          "output_type": "execute_result",
          "data": {
            "text/html": [
              "<div>\n",
              "<style scoped>\n",
              "    .dataframe tbody tr th:only-of-type {\n",
              "        vertical-align: middle;\n",
              "    }\n",
              "\n",
              "    .dataframe tbody tr th {\n",
              "        vertical-align: top;\n",
              "    }\n",
              "\n",
              "    .dataframe thead th {\n",
              "        text-align: right;\n",
              "    }\n",
              "</style>\n",
              "<table border=\"1\" class=\"dataframe\">\n",
              "  <thead>\n",
              "    <tr style=\"text-align: right;\">\n",
              "      <th></th>\n",
              "      <th>Agency Name</th>\n",
              "      <th>Total Value</th>\n",
              "      <th>Publish Date</th>\n",
              "      <th>Start Date</th>\n",
              "      <th>End Date</th>\n",
              "    </tr>\n",
              "    <tr>\n",
              "      <th>Supplier Name</th>\n",
              "      <th></th>\n",
              "      <th></th>\n",
              "      <th></th>\n",
              "      <th></th>\n",
              "      <th></th>\n",
              "    </tr>\n",
              "  </thead>\n",
              "  <tbody>\n",
              "    <tr>\n",
              "      <th>(USD) CITRIX SYSTEMS AUSTRALIA</th>\n",
              "      <td>Department of Home Affairs</td>\n",
              "      <td>2181255</td>\n",
              "      <td>2020-04-09</td>\n",
              "      <td>2020-03-27</td>\n",
              "      <td>2021-03-26</td>\n",
              "    </tr>\n",
              "    <tr>\n",
              "      <th>101 Web Technology</th>\n",
              "      <td>Office of Parliamentary Counsel</td>\n",
              "      <td>1416868</td>\n",
              "      <td>2018-04-24</td>\n",
              "      <td>2018-03-16</td>\n",
              "      <td>2021-03-24</td>\n",
              "    </tr>\n",
              "    <tr>\n",
              "      <th>120 Collins Street Pty Limited</th>\n",
              "      <td>Future Fund Management Agency</td>\n",
              "      <td>344344</td>\n",
              "      <td>2019-12-18</td>\n",
              "      <td>2019-11-07</td>\n",
              "      <td>2021-11-07</td>\n",
              "    </tr>\n",
              "    <tr>\n",
              "      <th>\"Dept of Industry, Innovation\" and Science</th>\n",
              "      <td>Department of Finance</td>\n",
              "      <td>259300</td>\n",
              "      <td>2020-03-10</td>\n",
              "      <td>2019-02-11</td>\n",
              "      <td>2020-06-30</td>\n",
              "    </tr>\n",
              "    <tr>\n",
              "      <th>102324 GHD Pty Ltd (Adelaide)</th>\n",
              "      <td>Bureau of Meteorology</td>\n",
              "      <td>109718</td>\n",
              "      <td>2019-09-24</td>\n",
              "      <td>2019-09-20</td>\n",
              "      <td>2021-06-30</td>\n",
              "    </tr>\n",
              "    <tr>\n",
              "      <th>0956196 BC LTD</th>\n",
              "      <td>Department of Defence</td>\n",
              "      <td>63910</td>\n",
              "      <td>2020-01-14</td>\n",
              "      <td>2019-11-27</td>\n",
              "      <td>2020-02-29</td>\n",
              "    </tr>\n",
              "    <tr>\n",
              "      <th>(DML) DEBE MEKIK LE CONSULTANCY PTY LTD</th>\n",
              "      <td>Australian Fisheries Management Authority</td>\n",
              "      <td>44000</td>\n",
              "      <td>2019-11-29</td>\n",
              "      <td>2019-11-12</td>\n",
              "      <td>2020-05-31</td>\n",
              "    </tr>\n",
              "    <tr>\n",
              "      <th>6326</th>\n",
              "      <td>Australian Signals Directorate</td>\n",
              "      <td>20983</td>\n",
              "      <td>2020-04-24</td>\n",
              "      <td>2020-05-04</td>\n",
              "      <td>2021-05-03</td>\n",
              "    </tr>\n",
              "    <tr>\n",
              "      <th>10ZIG TECHNOLOGY (ASIA PACIFIC)</th>\n",
              "      <td>Department of Defence</td>\n",
              "      <td>14960</td>\n",
              "      <td>2019-09-05</td>\n",
              "      <td>2019-09-03</td>\n",
              "      <td>2019-10-14</td>\n",
              "    </tr>\n",
              "    <tr>\n",
              "      <th>0XCC</th>\n",
              "      <td>Australian Signals Directorate</td>\n",
              "      <td>10000</td>\n",
              "      <td>2020-04-17</td>\n",
              "      <td>2020-06-05</td>\n",
              "      <td>2020-06-06</td>\n",
              "    </tr>\n",
              "  </tbody>\n",
              "</table>\n",
              "</div>"
            ],
            "text/plain": [
              "                                                                          Agency Name  ...    End Date\n",
              "Supplier Name                                                                          ...            \n",
              "(USD) CITRIX SYSTEMS AUSTRALIA                             Department of Home Affairs  ...  2021-03-26\n",
              "101 Web Technology                                    Office of Parliamentary Counsel  ...  2021-03-24\n",
              "120 Collins Street Pty Limited                          Future Fund Management Agency  ...  2021-11-07\n",
              "\"Dept of Industry, Innovation\" and Science                      Department of Finance  ...  2020-06-30\n",
              "102324 GHD Pty Ltd (Adelaide)                                   Bureau of Meteorology  ...  2021-06-30\n",
              "0956196 BC LTD                                                  Department of Defence  ...  2020-02-29\n",
              "(DML) DEBE MEKIK LE CONSULTANCY PTY LTD     Australian Fisheries Management Authority  ...  2020-05-31\n",
              "6326                                                   Australian Signals Directorate  ...  2021-05-03\n",
              "10ZIG TECHNOLOGY (ASIA PACIFIC)                                 Department of Defence  ...  2019-10-14\n",
              "0XCC                                                   Australian Signals Directorate  ...  2020-06-06\n",
              "\n",
              "[10 rows x 5 columns]"
            ]
          },
          "metadata": {
            "tags": []
          },
          "execution_count": 18
        }
      ]
    },
    {
      "cell_type": "markdown",
      "metadata": {
        "id": "ZcDdCH6nVpsF"
      },
      "source": [
        "### Problem Statement 02 i.e.\n",
        " \n",
        " To meet with agency/supplier representatives regularly, where should Bank X set up their office(s) to serve them better?\n",
        "\n",
        "##### Solution Criteria for top 10 locations\n",
        " - Get the suburbs where high valued customers are residing\n",
        " \n",
        "##### Approach Used will be \n",
        " - Will get all the suburb locations where high valued customers are residing and also personal suggestion"
      ]
    },
    {
      "cell_type": "code",
      "metadata": {
        "colab": {
          "base_uri": "https://localhost:8080/",
          "height": 294
        },
        "id": "nwhR4D4eVkqg",
        "outputId": "2ebcdb0c-8627-4aef-b3fe-22a26a6241f3"
      },
      "source": [
        "fig = plt.figure(figsize=(10, 3))\n",
        "ax = fig.add_axes([0,0,1,1])\n",
        "ax.bar(customersDF.first()['Supplier Suburb'][:10], customersDF.first()['Total Value'][:10], color='r')\n",
        "ax.set_ylabel('Total Value')\n",
        "ax.set_xlabel('Suburb Names')\n",
        "ax.set_title('Cities w.r.t valued customers')\n",
        "plt.show()"
      ],
      "execution_count": 19,
      "outputs": [
        {
          "output_type": "display_data",
          "data": {
            "image/png": "[encoded data removed]",
            "text/plain": [
              "<Figure size 720x216 with 1 Axes>"
            ]
          },
          "metadata": {
            "tags": [],
            "needs_background": "light"
          }
        }
      ]
    },
    {
      "cell_type": "markdown",
      "metadata": {
        "id": "BQtiHnKwV9kC"
      },
      "source": [
        "#### Personal Recommendation\n",
        " - My recommendation is that the bank should consider locations around North Sydney, Oxley, Melbourne and CANBERRA localities to increase its value"
      ]
    },
    {
      "cell_type": "markdown",
      "metadata": {
        "id": "xLPHw-rOWE4p"
      },
      "source": [
        "### Problem Statement 03 i.e.\n",
        "\n",
        "Bank X is planning to use machine learning to drive decision-making. Provide a machine learning use case for this dataset with the following details.\n",
        " -  Problem statement\n",
        " - Proposed solution\n",
        " -  Machine learning algorithm\n",
        " -  Pros/Cons\n",
        " -  Sample implementation of the machine learning algorithm\n",
        "\n",
        "##### Problem Statement\n",
        " - Which agencies are likely to provide high value in the future?\n",
        "\n",
        "##### Proposed Solution\n",
        "\n",
        " - First we will perform Clustering on agencies to put them in 3 sets i.e. 0 = Less Valued, 1 = Average Valued  and 2 = Highest Valued Client\n",
        " - Then we will perform classification on the data to classifiy a agency among one of these categories\n",
        "\n",
        "##### Machine Learning Algorithm\n",
        "  - We've uses Kmeans clustering to perform Clustering\n",
        "  - We have used Support Vector Machine Classfication to perform Classficiation\n",
        "\n",
        "##### Pros/Cons\n",
        "  - Pros are :\n",
        "   . We can predict high valued agencies and the clients related to those industries and extend our services accordingly\n",
        "  - Cons are :\n",
        "   . There is a thin possibility that low valued clients or average get ignored in some way\n",
        "\n",
        "##### Sample Implementation is as follows:"
      ]
    },
    {
      "cell_type": "code",
      "metadata": {
        "id": "G4lhcExxV56T"
      },
      "source": [
        "\"\"\"\n",
        "Importing Kmeans Cluster\n",
        "\"\"\"\n",
        "from sklearn.cluster import KMeans\n",
        "\n",
        "\"\"\"\n",
        "Importing svc for classficiation\n",
        "\"\"\"\n",
        "from sklearn import svm\n",
        "from sklearn.model_selection import train_test_split"
      ],
      "execution_count": 20,
      "outputs": []
    },
    {
      "cell_type": "code",
      "metadata": {
        "id": "856mlOw4WPZv"
      },
      "source": [
        "kmeans = KMeans(n_clusters=3)"
      ],
      "execution_count": 21,
      "outputs": []
    },
    {
      "cell_type": "code",
      "metadata": {
        "colab": {
          "base_uri": "https://localhost:8080/"
        },
        "id": "1qHlnW1KWR2w",
        "outputId": "2e1d1189-3c99-4868-ac85-9b979fde5ef8"
      },
      "source": [
        "customersDF.first().columns"
      ],
      "execution_count": 22,
      "outputs": [
        {
          "output_type": "execute_result",
          "data": {
            "text/plain": [
              "Index(['Agency Name', 'Contract ID', 'Publish Date', 'Start Date', 'End Date',\n",
              "       'Value', 'Amendment Date', 'Amendment Start Date', 'Amendments Value',\n",
              "       'Description', 'Agency Ref ID', 'UNSPSC Code', 'UNSPSC Title',\n",
              "       'Procurement Method', 'Confidentiality Contract Reason',\n",
              "       'Amendment Reason', 'Supplier Address', 'Supplier Suburb',\n",
              "       'Supplier Postcode', 'Supplier State', 'Supplier Country',\n",
              "       'Supplier ABN Exempt', 'Contact Name', 'Contact Phone', 'Branch',\n",
              "       'Division', 'Office Postcode', 'Applicable FY Year', 'Duration Years',\n",
              "       'Total Value'],\n",
              "      dtype='object')"
            ]
          },
          "metadata": {
            "tags": []
          },
          "execution_count": 22
        }
      ]
    },
    {
      "cell_type": "code",
      "metadata": {
        "colab": {
          "base_uri": "https://localhost:8080/",
          "height": 235
        },
        "id": "4oN3Egp5WVa_",
        "outputId": "70a257c3-3198-4c1f-e801-32a7b5204ff7"
      },
      "source": [
        "dfForCluster = pd.DataFrame()\n",
        "dfForCluster['Total Value'] = customersDF.first()['Total Value']\n",
        "dfForCluster['Procurement Method'] = pd.factorize(customersDF.first()['Procurement Method'])[0]\n",
        "dfForCluster['Agency Name'] = pd.factorize(customersDF.first()['Agency Name'])[0]\n",
        "dfForCluster.head()"
      ],
      "execution_count": 23,
      "outputs": [
        {
          "output_type": "execute_result",
          "data": {
            "text/html": [
              "<div>\n",
              "<style scoped>\n",
              "    .dataframe tbody tr th:only-of-type {\n",
              "        vertical-align: middle;\n",
              "    }\n",
              "\n",
              "    .dataframe tbody tr th {\n",
              "        vertical-align: top;\n",
              "    }\n",
              "\n",
              "    .dataframe thead th {\n",
              "        text-align: right;\n",
              "    }\n",
              "</style>\n",
              "<table border=\"1\" class=\"dataframe\">\n",
              "  <thead>\n",
              "    <tr style=\"text-align: right;\">\n",
              "      <th></th>\n",
              "      <th>Total Value</th>\n",
              "      <th>Procurement Method</th>\n",
              "      <th>Agency Name</th>\n",
              "    </tr>\n",
              "    <tr>\n",
              "      <th>Supplier Name</th>\n",
              "      <th></th>\n",
              "      <th></th>\n",
              "      <th></th>\n",
              "    </tr>\n",
              "  </thead>\n",
              "  <tbody>\n",
              "    <tr>\n",
              "      <th>6326</th>\n",
              "      <td>20983</td>\n",
              "      <td>0</td>\n",
              "      <td>0</td>\n",
              "    </tr>\n",
              "    <tr>\n",
              "      <th>\"Dept of Industry, Innovation\" and Science</th>\n",
              "      <td>259300</td>\n",
              "      <td>1</td>\n",
              "      <td>1</td>\n",
              "    </tr>\n",
              "    <tr>\n",
              "      <th>(DML) DEBE MEKIK LE CONSULTANCY PTY LTD</th>\n",
              "      <td>44000</td>\n",
              "      <td>0</td>\n",
              "      <td>2</td>\n",
              "    </tr>\n",
              "    <tr>\n",
              "      <th>(USD) CITRIX SYSTEMS AUSTRALIA</th>\n",
              "      <td>2181255</td>\n",
              "      <td>0</td>\n",
              "      <td>3</td>\n",
              "    </tr>\n",
              "    <tr>\n",
              "      <th>0956196 BC LTD</th>\n",
              "      <td>63910</td>\n",
              "      <td>0</td>\n",
              "      <td>4</td>\n",
              "    </tr>\n",
              "  </tbody>\n",
              "</table>\n",
              "</div>"
            ],
            "text/plain": [
              "                                            Total Value  ...  Agency Name\n",
              "Supplier Name                                            ...             \n",
              "6326                                              20983  ...            0\n",
              "\"Dept of Industry, Innovation\" and Science       259300  ...            1\n",
              "(DML) DEBE MEKIK LE CONSULTANCY PTY LTD           44000  ...            2\n",
              "(USD) CITRIX SYSTEMS AUSTRALIA                  2181255  ...            3\n",
              "0956196 BC LTD                                    63910  ...            4\n",
              "\n",
              "[5 rows x 3 columns]"
            ]
          },
          "metadata": {
            "tags": []
          },
          "execution_count": 23
        }
      ]
    },
    {
      "cell_type": "code",
      "metadata": {
        "colab": {
          "base_uri": "https://localhost:8080/"
        },
        "id": "niC2IsJmWbtQ",
        "outputId": "36f96b85-1ff6-4a9c-877d-2000093268d6"
      },
      "source": [
        "kmeans.fit(dfForCluster)"
      ],
      "execution_count": 24,
      "outputs": [
        {
          "output_type": "execute_result",
          "data": {
            "text/plain": [
              "KMeans(algorithm='auto', copy_x=True, init='k-means++', max_iter=300,\n",
              "       n_clusters=3, n_init=10, n_jobs=None, precompute_distances='auto',\n",
              "       random_state=None, tol=0.0001, verbose=0)"
            ]
          },
          "metadata": {
            "tags": []
          },
          "execution_count": 24
        }
      ]
    },
    {
      "cell_type": "code",
      "metadata": {
        "id": "1dpx0l00Wf6_"
      },
      "source": [
        "clusters = kmeans.cluster_centers_"
      ],
      "execution_count": 25,
      "outputs": []
    },
    {
      "cell_type": "code",
      "metadata": {
        "colab": {
          "base_uri": "https://localhost:8080/"
        },
        "id": "zYXPcL9FWhyP",
        "outputId": "71361125-3018-49f8-9809-78ac73d23d4f"
      },
      "source": [
        "#Print out the clusters\n",
        "clusters"
      ],
      "execution_count": 26,
      "outputs": [
        {
          "output_type": "execute_result",
          "data": {
            "text/plain": [
              "array([[3.93863309e+06, 3.59169303e-01, 2.18005919e+01],\n",
              "       [1.40136650e+10, 2.00000000e+00, 4.00000000e+00],\n",
              "       [2.98539412e+09, 8.18181818e-01, 5.45454545e+00]])"
            ]
          },
          "metadata": {
            "tags": []
          },
          "execution_count": 26
        }
      ]
    },
    {
      "cell_type": "code",
      "metadata": {
        "id": "TKzZvSjCWjTv"
      },
      "source": [
        "# Predicting Clusters\n",
        "y_km = kmeans.fit_predict(dfForCluster)"
      ],
      "execution_count": 27,
      "outputs": []
    },
    {
      "cell_type": "code",
      "metadata": {
        "colab": {
          "base_uri": "https://localhost:8080/"
        },
        "id": "Wt7LLVGeWmUf",
        "outputId": "b3753d37-d2e5-4647-b0d5-c09398e224ad"
      },
      "source": [
        "y_km.shape,dfForCluster.shape"
      ],
      "execution_count": 28,
      "outputs": [
        {
          "output_type": "execute_result",
          "data": {
            "text/plain": [
              "((19610,), (19610, 3))"
            ]
          },
          "metadata": {
            "tags": []
          },
          "execution_count": 28
        }
      ]
    },
    {
      "cell_type": "code",
      "metadata": {
        "colab": {
          "base_uri": "https://localhost:8080/"
        },
        "id": "sI9td3AwWn_G",
        "outputId": "23253108-f2b1-4b23-b6f9-aa6264f0e4c6"
      },
      "source": [
        "\"\"\"\n",
        "Creating instance and fitting the model\n",
        "\"\"\"\n",
        "X_train, X_test, y_train, y_test = train_test_split(dfForCluster, y_km, test_size=0.2)\n",
        "clf = svm.SVC(decision_function_shape='ovo')\n",
        "clf.fit(X_train, y_train)"
      ],
      "execution_count": 29,
      "outputs": [
        {
          "output_type": "execute_result",
          "data": {
            "text/plain": [
              "SVC(C=1.0, break_ties=False, cache_size=200, class_weight=None, coef0=0.0,\n",
              "    decision_function_shape='ovo', degree=3, gamma='scale', kernel='rbf',\n",
              "    max_iter=-1, probability=False, random_state=None, shrinking=True,\n",
              "    tol=0.001, verbose=False)"
            ]
          },
          "metadata": {
            "tags": []
          },
          "execution_count": 29
        }
      ]
    },
    {
      "cell_type": "code",
      "metadata": {
        "id": "QWum9gAWWq6X"
      },
      "source": [
        "\"\"\"\n",
        "Taking the predictions\n",
        "\"\"\"\n",
        "y_preds = clf.predict(X_test)"
      ],
      "execution_count": 30,
      "outputs": []
    },
    {
      "cell_type": "code",
      "metadata": {
        "colab": {
          "base_uri": "https://localhost:8080/"
        },
        "id": "E4n34bLhWtO-",
        "outputId": "dd0ba73f-8a33-468b-c2e3-ab6c0d6908b3"
      },
      "source": [
        "\"\"\"\n",
        "Comparing the predictions vs true labels\n",
        "\"\"\"\n",
        "y_preds[0], y_test[12]"
      ],
      "execution_count": 31,
      "outputs": [
        {
          "output_type": "execute_result",
          "data": {
            "text/plain": [
              "(0, 0)"
            ]
          },
          "metadata": {
            "tags": []
          },
          "execution_count": 31
        }
      ]
    }
  ]
}